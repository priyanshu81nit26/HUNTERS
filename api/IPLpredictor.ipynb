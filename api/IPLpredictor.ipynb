{
 "cells": [
  {
   "cell_type": "code",
   "execution_count": 3,
   "id": "71a7dc75-6efd-4cc9-a315-ca0599033910",
   "metadata": {},
   "outputs": [
    {
     "name": "stdout",
     "output_type": "stream",
     "text": [
      "Accuracy for Team A: 0.5172413793103449\n",
      "Accuracy for Team B: 0.6896551724137931\n"
     ]
    }
   ],
   "source": [
    "import pandas as pd\n",
    "import numpy as np\n",
    "from sklearn.model_selection import train_test_split\n",
    "from sklearn.ensemble import RandomForestClassifier\n",
    "from sklearn.preprocessing import OneHotEncoder\n",
    "from sklearn.metrics import accuracy_score\n",
    "\n",
    "# Load Data\n",
    "df = pd.read_csv(\"IPLStats2.csv\")\n",
    "\n",
    "# Preprocess - One-Hot Encoding\n",
    "encoder = OneHotEncoder()\n",
    "encoded_features = encoder.fit_transform(df[['Ground', 'Team A', 'Team B']]).toarray()\n",
    "feature_names = encoder.get_feature_names_out(['Ground', 'Team A', 'Team B'])\n",
    "X = pd.DataFrame(encoded_features, columns=feature_names)\n",
    "\n",
    "# Target Variables\n",
    "y_A = df['Six by A'] > 0  # Binary classification (Hit Six or Not)\n",
    "y_B = df['Six by B'] > 0\n",
    "\n",
    "# Train-Test Split\n",
    "X_train, X_test, y_A_train, y_A_test = train_test_split(X, y_A, test_size=0.2, random_state=42)\n",
    "X_train, X_test, y_B_train, y_B_test = train_test_split(X, y_B, test_size=0.2, random_state=42)\n",
    "\n",
    "# Model Training\n",
    "model_A = RandomForestClassifier(n_estimators=100, random_state=42)\n",
    "model_B = RandomForestClassifier(n_estimators=100, random_state=42)\n",
    "model_A.fit(X_train, y_A_train)\n",
    "model_B.fit(X_train, y_B_train)\n",
    "\n",
    "# Predictions\n",
    "pred_A = model_A.predict_proba(X_test)[:,1]  # Probability of hitting a six\n",
    "pred_B = model_B.predict_proba(X_test)[:,1]\n",
    "\n",
    "# Evaluate Model\n",
    "print(\"Accuracy for Team A:\", accuracy_score(y_A_test, model_A.predict(X_test)))\n",
    "print(\"Accuracy for Team B:\", accuracy_score(y_B_test, model_B.predict(X_test)))\n"
   ]
  },
  {
   "cell_type": "code",
   "execution_count": 4,
   "id": "179e9485-3562-4819-af33-9a4c3b5c273c",
   "metadata": {},
   "outputs": [
    {
     "name": "stdout",
     "output_type": "stream",
     "text": [
      "Probability of GT hitting sixes: 0.03\n",
      "Probability of MI hitting sixes: 0.05\n"
     ]
    },
    {
     "name": "stderr",
     "output_type": "stream",
     "text": [
      "C:\\Users\\SANDEEP YADAV\\anaconda3\\Lib\\site-packages\\sklearn\\utils\\validation.py:2739: UserWarning: X does not have valid feature names, but RandomForestClassifier was fitted with feature names\n",
      "  warnings.warn(\n",
      "C:\\Users\\SANDEEP YADAV\\anaconda3\\Lib\\site-packages\\sklearn\\utils\\validation.py:2739: UserWarning: X does not have valid feature names, but RandomForestClassifier was fitted with feature names\n",
      "  warnings.warn(\n"
     ]
    }
   ],
   "source": [
    "# Function to predict probability for new data\n",
    "def predict_six_probability(ground, team_A, team_B):\n",
    "    # Convert input into encoded form\n",
    "    input_data = pd.DataFrame([[ground, team_A, team_B]], columns=['Ground', 'Team A', 'Team B'])\n",
    "    input_encoded = encoder.transform(input_data).toarray()\n",
    "    \n",
    "    # Predict probabilities\n",
    "    prob_A = model_A.predict_proba(input_encoded)[:, 1][0]\n",
    "    prob_B = model_B.predict_proba(input_encoded)[:, 1][0]\n",
    "    \n",
    "    return prob_A, prob_B\n",
    "\n",
    "# Custom Input\n",
    "ground = \"Vishakhapatnam\"\n",
    "team_A = \"SRH\"\n",
    "team_B = \"DC\"\n",
    "\n",
    "# Predict\n",
    "prob_A, prob_B = predict_six_probability(ground, team_A, team_B)\n",
    "print(f\"Probability of {team_A} hitting sixes: {prob_A:.2f}\")\n",
    "print(f\"Probability of {team_B} hitting sixes: {prob_B:.2f}\")\n"
   ]
  },
  {
   "cell_type": "code",
   "execution_count": 21,
   "id": "78b6521f-d053-4764-be0e-e6310455ce37",
   "metadata": {},
   "outputs": [
    {
     "name": "stdout",
     "output_type": "stream",
     "text": [
      "Probability of DC hitting sixes: 0.13\n",
      "Probability of SRH hitting sixes: 0.20\n",
      "Probability of DC winning: 0.86\n",
      "Probability of SRH winning: 0.14\n"
     ]
    }
   ],
   "source": [
    "import pandas as pd\n",
    "from sklearn.model_selection import train_test_split\n",
    "from sklearn.preprocessing import OneHotEncoder\n",
    "from sklearn.ensemble import RandomForestClassifier\n",
    "from sklearn.metrics import accuracy_score\n",
    "\n",
    "# Load the dataset\n",
    "df = pd.read_csv(\"IPLStats3.csv\")  # Replace with actual dataset path\n",
    "\n",
    "# Encode categorical features\n",
    "encoder = OneHotEncoder(handle_unknown='ignore')\n",
    "encoded_features = encoder.fit_transform(df[['Ground', 'Team A', 'Team B']])\n",
    "\n",
    "# Prepare target variables\n",
    "target_six_A = df['Six by A'] > 0  # Convert to binary: 1 if A hit sixes, else 0\n",
    "target_six_B = df['Six by B'] > 0  # Convert to binary: 1 if B hit sixes, else 0\n",
    "target_win_A = df['Result'] == df['Team A']  # 1 if Team A wins, else 0\n",
    "\n",
    "# Split into train and test\n",
    "X_train, X_test, y_train_A, y_test_A = train_test_split(encoded_features, target_six_A, test_size=0.2, random_state=42)\n",
    "X_train, X_test, y_train_B, y_test_B = train_test_split(encoded_features, target_six_B, test_size=0.2, random_state=42)\n",
    "X_train, X_test, y_train_Win, y_test_Win = train_test_split(encoded_features, target_win_A, test_size=0.2, random_state=42)\n",
    "\n",
    "# Train models\n",
    "model_A = RandomForestClassifier(n_estimators=100, random_state=42)\n",
    "model_A.fit(X_train, y_train_A)\n",
    "\n",
    "model_B = RandomForestClassifier(n_estimators=100, random_state=42)\n",
    "model_B.fit(X_train, y_train_B)\n",
    "\n",
    "model_Win = RandomForestClassifier(n_estimators=100, random_state=42)\n",
    "model_Win.fit(X_train, y_train_Win)\n",
    "\n",
    "# Function to predict probabilities\n",
    "def predict_probabilities(ground, team_A, team_B):\n",
    "    input_data = pd.DataFrame([[ground, team_A, team_B]], columns=['Ground', 'Team A', 'Team B'])\n",
    "    input_encoded = encoder.transform(input_data).toarray()\n",
    "    \n",
    "    prob_A_six = model_A.predict_proba(input_encoded)[:, 1][0]\n",
    "    prob_B_six = model_B.predict_proba(input_encoded)[:, 1][0]\n",
    "    prob_A_win = model_Win.predict_proba(input_encoded)[:, 1][0]  # Probability of Team A winning\n",
    "    prob_B_win = 1 - prob_A_win  # Probability of Team B winning\n",
    "\n",
    "    return prob_A_six, prob_B_six, prob_A_win, prob_B_win\n",
    "\n",
    "# Custom Input\n",
    "ground = \"Vishakhapatnam\"\n",
    "team_A = \"DC\"\n",
    "team_B = \"SRH\"\n",
    "\n",
    "# Predict\n",
    "prob_A_six, prob_B_six, prob_A_win, prob_B_win = predict_probabilities(ground, team_A, team_B)\n",
    "print(f\"Probability of {team_A} hitting sixes: {prob_A_six:.2f}\")\n",
    "print(f\"Probability of {team_B} hitting sixes: {prob_B_six:.2f}\")\n",
    "print(f\"Probability of {team_A} winning: {prob_A_win:.2f}\")\n",
    "print(f\"Probability of {team_B} winning: {prob_B_win:.2f}\")\n"
   ]
  },
  {
   "cell_type": "code",
   "execution_count": 15,
   "id": "5f8d0e5b-96ce-47ca-a35e-10aa86412aea",
   "metadata": {},
   "outputs": [
    {
     "name": "stdin",
     "output_type": "stream",
     "text": [
      "Enter Batsman Name:  RG Sharma\n"
     ]
    },
    {
     "name": "stdout",
     "output_type": "stream",
     "text": [
      "\n",
      "📊 Batsman Stats:\n",
      "  batsman  total_runs  avg_runs  high_score  balls_faced  matches  fours  sixes  strike_rate\n",
      "RG Sharma        1398   1.28022           6         1092       57    141     67   128.021978\n"
     ]
    }
   ],
   "source": [
    "import pandas as pd\n",
    "import numpy as np\n",
    "\n",
    "# Load dataset (skip irrelevant rows, keep header)\n",
    "df = pd.read_csv(\"deliveries.csv\", skiprows=range(1, 193618))\n",
    "\n",
    "# Add 'is_four' and 'is_six' columns\n",
    "df['is_four'] = (df['batsman_runs'] == 4).astype(int)\n",
    "df['is_six'] = (df['batsman_runs'] == 6).astype(int)\n",
    "\n",
    "# BATSMAN ANALYSIS\n",
    "batsman_stats = df.groupby('batter').agg({\n",
    "    'batsman_runs': ['sum', 'mean', 'max'],  # Total runs, Average runs, Highest score\n",
    "    'ball': 'count',  # Balls faced\n",
    "    'match_id': 'nunique',  # Matches played\n",
    "    'is_four': 'sum',  # Total 4s\n",
    "    'is_six': 'sum'  # Total 6s\n",
    "}).reset_index()\n",
    "\n",
    "batsman_stats.columns = ['batsman', 'total_runs', 'avg_runs', 'high_score', 'balls_faced', 'matches', 'fours', 'sixes']\n",
    "batsman_stats['strike_rate'] = (batsman_stats['total_runs'] / batsman_stats['balls_faced']) * 100\n",
    "\n",
    "# Save Stats\n",
    "batsman_stats.to_csv(\"batsman_stats.csv\", index=False)\n",
    "\n",
    "# 🏏 Search for a specific batsman's stats\n",
    "batsman_name = input(\"Enter Batsman Name: \").strip()\n",
    "\n",
    "# Filter the stats for the entered batsman\n",
    "player_data = batsman_stats[batsman_stats['batsman'].str.lower() == batsman_name.lower()]\n",
    "\n",
    "if not player_data.empty:\n",
    "    print(\"\\n📊 Batsman Stats:\")\n",
    "    print(player_data.to_string(index=False))\n",
    "else:\n",
    "    print(\"\\n❌ Batsman not found in the dataset!\")\n"
   ]
  },
  {
   "cell_type": "code",
   "execution_count": 3,
   "id": "c7acfb05-92a4-49b1-a6ec-ea2904116e3a",
   "metadata": {},
   "outputs": [
    {
     "name": "stderr",
     "output_type": "stream",
     "text": [
      "C:\\Users\\SANDEEP YADAV\\AppData\\Local\\Temp\\ipykernel_15956\\3039376364.py:42: FutureWarning: A value is trying to be set on a copy of a DataFrame or Series through chained assignment using an inplace method.\n",
      "The behavior will change in pandas 3.0. This inplace method will never work because the intermediate object on which we are setting values always behaves as a copy.\n",
      "\n",
      "For example, when doing 'df[col].method(value, inplace=True)', try using 'df.method({col: value}, inplace=True)' or df[col] = df[col].method(value) instead, to perform the operation inplace on the original object.\n",
      "\n",
      "\n",
      "  final_stats['sixes_in_first_two_overs'].fillna(0, inplace=True)\n"
     ]
    },
    {
     "name": "stdin",
     "output_type": "stream",
     "text": [
      "Enter Bowler Name:  Sandeep Sharma\n"
     ]
    },
    {
     "name": "stdout",
     "output_type": "stream",
     "text": [
      "\n",
      "📊 Bowler Stats:\n",
      "        bowler  matches  innings  balls  runs  wickets       avg     econ        sr  BBI  BBM  sixes_in_first_two_overs\n",
      "Sandeep Sharma       34      797    797  1030       36 28.611111 7.754078 22.138889    5    5                       4.0\n"
     ]
    }
   ],
   "source": [
    "import pandas as pd\n",
    "import numpy as np\n",
    "\n",
    "# Load dataset\n",
    "# Ensure your CSV has all necessary columns (match_id, bowler, total_runs, is_wicket, over, ball)\n",
    "df = pd.read_csv(\"deliveries.csv\", skiprows=range(1, 193618))\n",
    "\n",
    "# Filter out extras (only runs conceded off the bat count)\n",
    "df['bowler_runs'] = df['total_runs'] - df['extra_runs']\n",
    "\n",
    "# Count sixes in first two overs\n",
    "first_two_overs = df[df['over'] < 2]\n",
    "bowler_sixes = first_two_overs[first_two_overs['batsman_runs'] == 6].groupby('bowler')['batsman_runs'].count().reset_index()\n",
    "bowler_sixes.columns = ['bowler', 'sixes_in_first_two_overs']\n",
    "\n",
    "# Aggregate bowler statistics\n",
    "bowler_stats = df.groupby('bowler').agg(\n",
    "    matches=('match_id', 'nunique'),  # Matches played\n",
    "    innings=('match_id', 'count'),    # Innings bowled\n",
    "    balls=('ball', 'count'),          # Balls bowled\n",
    "    runs=('bowler_runs', 'sum'),      # Runs conceded\n",
    "    wickets=('is_wicket', 'sum')      # Wickets taken\n",
    ").reset_index()\n",
    "\n",
    "# Calculate bowling averages, economy rates, and strike rates\n",
    "bowler_stats['avg'] = bowler_stats['runs'] / bowler_stats['wickets']\n",
    "bowler_stats['econ'] = (bowler_stats['runs'] / bowler_stats['balls']) * 6\n",
    "bowler_stats['sr'] = bowler_stats['balls'] / bowler_stats['wickets']\n",
    "\n",
    "# Best Bowling in an Innings (BBI) and Best Bowling in a Match (BBM)\n",
    "bbi = df.groupby(['bowler', 'match_id']).agg(wickets=('is_wicket', 'sum')).reset_index()\n",
    "bbi = bbi.groupby('bowler')['wickets'].max().reset_index()\n",
    "bbi.columns = ['bowler', 'BBI']\n",
    "\n",
    "bbm = df.groupby(['bowler', 'match_id']).agg(wickets=('is_wicket', 'sum')).groupby('bowler')['wickets'].max().reset_index()\n",
    "bbm.columns = ['bowler', 'BBM']\n",
    "\n",
    "# Merge all statistics\n",
    "final_stats = bowler_stats.merge(bbi, on='bowler', how='left').merge(bbm, on='bowler', how='left').merge(bowler_sixes, on='bowler', how='left')\n",
    "\n",
    "# Fill NaN values for cases where bowlers have no sixes conceded in first two overs\n",
    "final_stats['sixes_in_first_two_overs'].fillna(0, inplace=True)\n",
    "\n",
    "# Save Stats\n",
    "final_stats.to_csv(\"bowler_stats.csv\", index=False)\n",
    "\n",
    "# 🏏 Search for a specific bowler's stats\n",
    "bowler_name = input(\"Enter Bowler Name: \").strip()\n",
    "\n",
    "# Filter the stats for the entered bowler\n",
    "player_data = final_stats[final_stats['bowler'].str.lower() == bowler_name.lower()]\n",
    "\n",
    "if not player_data.empty:\n",
    "    print(\"\\n📊 Bowler Stats:\")\n",
    "    print(player_data.to_string(index=False))\n",
    "else:\n",
    "    print(\"\\n❌ Bowler not found in the dataset!\")\n"
   ]
  },
  {
   "cell_type": "code",
   "execution_count": 11,
   "id": "052ff3bb-d36d-4bda-b68c-6d57c7ede98b",
   "metadata": {},
   "outputs": [
    {
     "ename": "NameError",
     "evalue": "name 'batsman_stats' is not defined",
     "output_type": "error",
     "traceback": [
      "\u001b[1;31m---------------------------------------------------------------------------\u001b[0m",
      "\u001b[1;31mNameError\u001b[0m                                 Traceback (most recent call last)",
      "Cell \u001b[1;32mIn[11], line 6\u001b[0m\n\u001b[0;32m      3\u001b[0m \u001b[38;5;28;01mfrom\u001b[39;00m \u001b[38;5;21;01msklearn\u001b[39;00m\u001b[38;5;21;01m.\u001b[39;00m\u001b[38;5;21;01mmetrics\u001b[39;00m \u001b[38;5;28;01mimport\u001b[39;00m mean_squared_error\n\u001b[0;32m      5\u001b[0m \u001b[38;5;66;03m# Select Features & Target\u001b[39;00m\n\u001b[1;32m----> 6\u001b[0m X_bat \u001b[38;5;241m=\u001b[39m batsman_stats[[\u001b[38;5;124m'\u001b[39m\u001b[38;5;124mballs_faced\u001b[39m\u001b[38;5;124m'\u001b[39m, \u001b[38;5;124m'\u001b[39m\u001b[38;5;124mmatches\u001b[39m\u001b[38;5;124m'\u001b[39m, \u001b[38;5;124m'\u001b[39m\u001b[38;5;124mstrike_rate\u001b[39m\u001b[38;5;124m'\u001b[39m, \u001b[38;5;124m'\u001b[39m\u001b[38;5;124mfours\u001b[39m\u001b[38;5;124m'\u001b[39m, \u001b[38;5;124m'\u001b[39m\u001b[38;5;124msixes\u001b[39m\u001b[38;5;124m'\u001b[39m]]\n\u001b[0;32m      7\u001b[0m y_bat \u001b[38;5;241m=\u001b[39m batsman_stats[\u001b[38;5;124m'\u001b[39m\u001b[38;5;124mtotal_runs\u001b[39m\u001b[38;5;124m'\u001b[39m]\n\u001b[0;32m      9\u001b[0m \u001b[38;5;66;03m# Train Test Split\u001b[39;00m\n",
      "\u001b[1;31mNameError\u001b[0m: name 'batsman_stats' is not defined"
     ]
    }
   ],
   "source": [
    "from sklearn.model_selection import train_test_split\n",
    "from sklearn.ensemble import RandomForestRegressor\n",
    "from sklearn.metrics import mean_squared_error\n",
    "\n",
    "# Select Features & Target\n",
    "X_bat = batsman_stats[['balls_faced', 'matches', 'strike_rate', 'fours', 'sixes']]\n",
    "y_bat = batsman_stats['total_runs']\n",
    "\n",
    "# Train Test Split\n",
    "X_train, X_test, y_train, y_test = train_test_split(X_bat, y_bat, test_size=0.2, random_state=42)\n",
    "\n",
    "# Train Model\n",
    "bat_model = RandomForestRegressor(n_estimators=100, random_state=42)\n",
    "bat_model.fit(X_train, y_train)\n",
    "\n",
    "# Predictions\n",
    "y_pred = bat_model.predict(X_test)\n",
    "\n",
    "# Model Evaluation\n",
    "mse = mean_squared_error(y_test, y_pred)\n",
    "print(f\"Batsman Prediction Model MSE: {mse}\")\n",
    "\n",
    "# Predict Runs for New Player\n",
    "new_batsman = np.array([[50, 10, 130, 8, 4]])  # Example: 50 balls, 10 matches, 130 SR, 8 fours, 4 sixes\n",
    "predicted_runs = bat_model.predict(new_batsman)\n",
    "print(f\"Predicted Runs: {predicted_runs[0]}\")\n"
   ]
  },
  {
   "cell_type": "code",
   "execution_count": 12,
   "id": "c12ccb1e-2165-4b6b-8044-8ea72b791096",
   "metadata": {},
   "outputs": [
    {
     "ename": "NameError",
     "evalue": "name 'bowler_stats' is not defined",
     "output_type": "error",
     "traceback": [
      "\u001b[1;31m---------------------------------------------------------------------------\u001b[0m",
      "\u001b[1;31mNameError\u001b[0m                                 Traceback (most recent call last)",
      "Cell \u001b[1;32mIn[12], line 2\u001b[0m\n\u001b[0;32m      1\u001b[0m \u001b[38;5;66;03m# Select Features & Target\u001b[39;00m\n\u001b[1;32m----> 2\u001b[0m X_bowl \u001b[38;5;241m=\u001b[39m bowler_stats[[\u001b[38;5;124m'\u001b[39m\u001b[38;5;124mballs_bowled\u001b[39m\u001b[38;5;124m'\u001b[39m, \u001b[38;5;124m'\u001b[39m\u001b[38;5;124meconomy\u001b[39m\u001b[38;5;124m'\u001b[39m, \u001b[38;5;124m'\u001b[39m\u001b[38;5;124mbowling_avg\u001b[39m\u001b[38;5;124m'\u001b[39m]]\n\u001b[0;32m      3\u001b[0m y_bowl \u001b[38;5;241m=\u001b[39m bowler_stats[\u001b[38;5;124m'\u001b[39m\u001b[38;5;124mwickets\u001b[39m\u001b[38;5;124m'\u001b[39m]\n\u001b[0;32m      5\u001b[0m \u001b[38;5;66;03m# Train Test Split\u001b[39;00m\n",
      "\u001b[1;31mNameError\u001b[0m: name 'bowler_stats' is not defined"
     ]
    }
   ],
   "source": [
    "# Select Features & Target\n",
    "X_bowl = bowler_stats[['balls_bowled', 'economy', 'bowling_avg']]\n",
    "y_bowl = bowler_stats['wickets']\n",
    "\n",
    "# Train Test Split\n",
    "X_train, X_test, y_train, y_test = train_test_split(X_bowl, y_bowl, test_size=0.2, random_state=42)\n",
    "\n",
    "# Train Model\n",
    "bowl_model = RandomForestRegressor(n_estimators=100, random_state=42)\n",
    "bowl_model.fit(X_train, y_train)\n",
    "\n",
    "# Predictions\n",
    "y_pred = bowl_model.predict(X_test)\n",
    "\n",
    "# Model Evaluation\n",
    "mse = mean_squared_error(y_test, y_pred)\n",
    "print(f\"Bowler Prediction Model MSE: {mse}\")\n",
    "\n",
    "# Predict Wickets for New Bowler\n",
    "new_bowler = np.array([[60, 6.5, 25]])  # Example: 60 balls, 6.5 economy, 25 avg\n",
    "predicted_wickets = bowl_model.predict(new_bowler)\n",
    "print(f\"Predicted Wickets: {predicted_wickets[0]}\")\n"
   ]
  },
  {
   "cell_type": "code",
   "execution_count": 2,
   "id": "9fed2382-b327-4582-9e29-aa643dc4ca72",
   "metadata": {},
   "outputs": [
    {
     "name": "stdout",
     "output_type": "stream",
     "text": [
      "Probability of LSG hitting sixes: 0.71\n",
      "Probability of MI hitting sixes: 0.80\n",
      "Probability of LSG winning: 0.78\n",
      "Probability of MI winning: 0.22\n"
     ]
    }
   ],
   "source": [
    "import pandas as pd\n",
    "import numpy as np\n",
    "from sklearn.model_selection import train_test_split\n",
    "from sklearn.preprocessing import OneHotEncoder\n",
    "from sklearn.ensemble import RandomForestClassifier\n",
    "from sklearn.metrics import accuracy_score\n",
    "\n",
    "# Load dataset\n",
    "df = pd.read_csv(\"IPLStats3updcsv1.csv\")  # Replace with actual dataset path\n",
    "\n",
    "# Assigning weights based on row index\n",
    "df['weight'] = 1.0  # Default weight\n",
    "df.loc[75:145, 'weight'] = 1.5  # Medium importance\n",
    "df.loc[146:, 'weight'] = 2.0  # Highest importance\n",
    "\n",
    "# Encode categorical features\n",
    "encoder = OneHotEncoder(handle_unknown='ignore')\n",
    "encoded_features = encoder.fit_transform(df[['Ground', 'Team A', 'Team B']])\n",
    "\n",
    "# Prepare target variables\n",
    "target_six_A = df['Six by A'] > 0  # Binary: 1 if A hit sixes, else 0\n",
    "target_six_B = df['Six by B'] > 0  # Binary: 1 if B hit sixes, else 0\n",
    "target_win_A = df['Result'] == df['Team A']  # 1 if Team A wins, else 0\n",
    "\n",
    "# Splitting into train and test sets (keeping weights)\n",
    "X_train, X_test, y_train_A, y_test_A, w_train_A, w_test_A = train_test_split(\n",
    "    encoded_features, target_six_A, df['weight'], test_size=0.2, random_state=42\n",
    ")\n",
    "X_train, X_test, y_train_B, y_test_B, w_train_B, w_test_B = train_test_split(\n",
    "    encoded_features, target_six_B, df['weight'], test_size=0.2, random_state=42\n",
    ")\n",
    "X_train, X_test, y_train_Win, y_test_Win, w_train_Win, w_test_Win = train_test_split(\n",
    "    encoded_features, target_win_A, df['weight'], test_size=0.2, random_state=42\n",
    ")\n",
    "\n",
    "# Train models using sample weights\n",
    "model_A = RandomForestClassifier(n_estimators=100, random_state=42)\n",
    "model_A.fit(X_train, y_train_A, sample_weight=w_train_A)\n",
    "\n",
    "model_B = RandomForestClassifier(n_estimators=100, random_state=42)\n",
    "model_B.fit(X_train, y_train_B, sample_weight=w_train_B)\n",
    "\n",
    "model_Win = RandomForestClassifier(n_estimators=100, random_state=42)\n",
    "model_Win.fit(X_train, y_train_Win, sample_weight=w_train_Win)\n",
    "\n",
    "# Function to predict probabilities\n",
    "def predict_probabilities(ground, team_A, team_B):\n",
    "    input_data = pd.DataFrame([[ground, team_A, team_B]], columns=['Ground', 'Team A', 'Team B'])\n",
    "    input_encoded = encoder.transform(input_data).toarray()\n",
    "    \n",
    "    prob_A_six = model_A.predict_proba(input_encoded)[:, 1][0]\n",
    "    prob_B_six = model_B.predict_proba(input_encoded)[:, 1][0]\n",
    "    prob_A_win = model_Win.predict_proba(input_encoded)[:, 1][0]  # Probability of Team A winning\n",
    "    prob_B_win = 1 - prob_A_win  # Probability of Team B winning\n",
    "\n",
    "    return prob_A_six, prob_B_six, prob_A_win, prob_B_win\n",
    "\n",
    "# Custom Input\n",
    "ground = \"Lucknow\"\n",
    "team_A = \"LSG\"\n",
    "team_B = \"MI\"\n",
    "\n",
    "# Predict\n",
    "prob_A_six, prob_B_six, prob_A_win, prob_B_win = predict_probabilities(ground, team_A, team_B)\n",
    "print(f\"Probability of {team_A} hitting sixes: {prob_A_six:.2f}\")\n",
    "print(f\"Probability of {team_B} hitting sixes: {prob_B_six:.2f}\")\n",
    "print(f\"Probability of {team_A} winning: {prob_A_win:.2f}\")\n",
    "print(f\"Probability of {team_B} winning: {prob_B_win:.2f}\")\n"
   ]
  },
  {
   "cell_type": "code",
   "execution_count": null,
   "id": "1f17f067-eb3d-47e4-9c4e-6252428e6b41",
   "metadata": {},
   "outputs": [],
   "source": []
  }
 ],
 "metadata": {
  "kernelspec": {
   "display_name": "Python 3 (ipykernel)",
   "language": "python",
   "name": "python3"
  },
  "language_info": {
   "codemirror_mode": {
    "name": "ipython",
    "version": 3
   },
   "file_extension": ".py",
   "mimetype": "text/x-python",
   "name": "python",
   "nbconvert_exporter": "python",
   "pygments_lexer": "ipython3",
   "version": "3.11.7"
  }
 },
 "nbformat": 4,
 "nbformat_minor": 5
}
